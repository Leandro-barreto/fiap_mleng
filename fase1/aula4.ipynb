{
 "cells": [
  {
   "cell_type": "markdown",
   "metadata": {},
   "source": [
    "## Aula de API"
   ]
  },
  {
   "cell_type": "markdown",
   "metadata": {},
   "source": [
    "### Bibliotecas Utilizadas\n",
    "\n",
    "- Flask\n",
    "- FastAPI\n",
    "- uvicorn\n",
    "\n",
    "#### Pastas:\n",
    "```md\n",
    "meu_pacote/\n",
    "├── codigos\n",
    "│   ├── __init__.py\n",
    "│   └── codigo.py\n",
    "├── LICENSE\n",
    "├── README.md\n",
    "├── setup.py\n",
    "└── tests\n",
    "    └── test_codigo.py\n",
    "```\n",
    "#### Comando para criação do pacote:\n",
    "```bash\n",
    "python setup.py sdist bdist_wheel\n",
    "```\n",
    "\n",
    "#### Upload para o pypi:\n",
    "##### Configurar o arquivo $home/.pypirc\n",
    "\n",
    "```bash\n",
    "[pypi]\n",
    "  username = __token__\n",
    "  password = {token_do_pypi}\n",
    "\n",
    "```\n",
    "##### Rodar o comando:\n",
    "```bash\n",
    "twine upload dist/*\n",
    "```"
   ]
  },
  {
   "cell_type": "code",
   "execution_count": 1,
   "metadata": {},
   "outputs": [],
   "source": [
    "# app.py\n",
    "\n",
    "from flask import Flask\n",
    "from flask_sqlalchemy import SQLAlchemy\n",
    "\n",
    "app = Flask(__name__)\n",
    "app.config['SQLALCHEMY_DATABASE_URI'] = 'sqlite:///example.db'\n",
    "db = SQLAlchemy(app)\n",
    "\n",
    "class User(db.Model):\n",
    "    id = db.Column(db.Integer, primary_key=True)\n",
    "    username = db.Column(db.String(80), unique=True, nullable=False)"
   ]
  },
  {
   "cell_type": "code",
   "execution_count": null,
   "metadata": {},
   "outputs": [],
   "source": [
    "# app.py, blueprint\n",
    "\n",
    "from flask import Blueprint, render_template\n",
    "\n",
    "auth_bp = Blueprint('auth', __name__)\n",
    "\n",
    "@auth_bp.route('/login')\n",
    "def login():\n",
    "    return render_template('login.html')\n",
    "\n",
    "# Integrando o blueprint no aplicativo principal\n",
    "app.register_blueprint(auth_bp, url_prefix='/auth')"
   ]
  },
  {
   "cell_type": "code",
   "execution_count": null,
   "metadata": {},
   "outputs": [],
   "source": [
    "# main.py\n",
    "\n",
    "from fastapi import FastAPI\n",
    "from pydantic import BaseModel\n",
    "\n",
    "app = FastAPI()\n",
    "\n",
    "class Item(BaseModel):\n",
    "    name: str\n",
    "    description: str = None\n",
    "    price: float\n",
    "    tax: float = None"
   ]
  },
  {
   "cell_type": "code",
   "execution_count": null,
   "metadata": {},
   "outputs": [],
   "source": [
    "# main.py\n",
    "\n",
    "from fastapi import Depends, FastAPI, HTTPException\n",
    "from fastapi.security import OAuth2PasswordBearer\n",
    "\n",
    "app = FastAPI()\n",
    "\n",
    "oauth2_scheme = OAuth2PasswordBearer(tokenUrl=\"token\")\n",
    "\n",
    "# Uso de dependência avançada\n",
    "def get_current_user(token: str = Depends(oauth2_scheme)):\n",
    "    credentials_exception = HTTPException(\n",
    "        status_code=401,\n",
    "        detail=\"Could not validate credentials\",\n",
    "        headers={\"WWW-Authenticate\": \"Bearer\"}\n",
    "    )\n",
    "    # Lógica para validar o token e obter o usuário atual\n",
    "    return current_user\n",
    "\n",
    "@app.get(\"/users/na\")\n",
    "async def read_user_na(current_user: User = Depends(get_current_user)):\n",
    "    return {\"username\": current_user.username}"
   ]
  }
 ],
 "metadata": {
  "kernelspec": {
   "display_name": ".venv",
   "language": "python",
   "name": "python3"
  },
  "language_info": {
   "codemirror_mode": {
    "name": "ipython",
    "version": 3
   },
   "file_extension": ".py",
   "mimetype": "text/x-python",
   "name": "python",
   "nbconvert_exporter": "python",
   "pygments_lexer": "ipython3",
   "version": "3.10.13"
  }
 },
 "nbformat": 4,
 "nbformat_minor": 2
}
