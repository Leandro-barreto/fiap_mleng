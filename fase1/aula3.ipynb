{
 "cells": [
  {
   "cell_type": "markdown",
   "metadata": {},
   "source": [
    "## Aula de imports e módulos"
   ]
  },
  {
   "cell_type": "markdown",
   "metadata": {},
   "source": [
    "### Para criar Pacotes\n",
    "\n",
    "#### Pastas:\n",
    "```md\n",
    "meu_pacote/\n",
    "├── codigos\n",
    "│   ├── __init__.py\n",
    "│   └── codigo.py\n",
    "├── LICENSE\n",
    "├── README.md\n",
    "├── setup.py\n",
    "└── tests\n",
    "    └── test_codigo.py\n",
    "```\n",
    "#### Comando para criação do pacote:\n",
    "```bash\n",
    "python setup.py sdist bdist_wheel\n",
    "```\n",
    "\n",
    "#### Upload para o pypi:\n",
    "##### Configurar o arquivo $home/.pypirc\n",
    "\n",
    "```bash\n",
    "[pypi]\n",
    "  username = __token__\n",
    "  password = {token_do_pypi}\n",
    "\n",
    "```\n",
    "##### Rodar o comando:\n",
    "```bash\n",
    "twine upload dist/*\n",
    "```"
   ]
  },
  {
   "cell_type": "code",
   "execution_count": 5,
   "metadata": {},
   "outputs": [],
   "source": [
    "import investimentos"
   ]
  },
  {
   "cell_type": "code",
   "execution_count": null,
   "metadata": {},
   "outputs": [
    {
     "name": "stdout",
     "output_type": "stream",
     "text": [
      "Retorno do investimento: 50.00%\n",
      "Valor final com juros compostos: R$1338.23\n",
      "Taxa de juros mensal: 0.49%\n",
      "CAGR: 8.45%\n"
     ]
    }
   ],
   "source": [
    "# main.py\n",
    "\n",
    "valor_inicial = 1000\n",
    "valor_final = 1500\n",
    "anos = 5\n",
    "taxa_anual = 6\n",
    "\n",
    "retorno = investimentos.calcular_retorno_investimento(valor_inicial, valor_final)\n",
    "print(f\"Retorno do investimento: {retorno:.2f}%\")\n",
    "\n",
    "valor_final_juros = investimentos.calcular_juros_compostos(valor_inicial, taxa_anual, anos)\n",
    "print(f\"Valor final com juros compostos: R${valor_final_juros:.2f}\")\n",
    "\n",
    "taxa_mensal = investimentos.converter_taxa_anual_para_mensal(taxa_anual)\n",
    "print(f\"Taxa de juros mensal: {taxa_mensal:.2f}%\")\n",
    "\n",
    "cagr = investimentos.calcular_cagr(valor_inicial, valor_final, anos)\n",
    "print(f\"CAGR: {cagr:.2f}%\")"
   ]
  }
 ],
 "metadata": {
  "kernelspec": {
   "display_name": ".venv",
   "language": "python",
   "name": "python3"
  },
  "language_info": {
   "codemirror_mode": {
    "name": "ipython",
    "version": 3
   },
   "file_extension": ".py",
   "mimetype": "text/x-python",
   "name": "python",
   "nbconvert_exporter": "python",
   "pygments_lexer": "ipython3",
   "version": "3.10.13"
  }
 },
 "nbformat": 4,
 "nbformat_minor": 2
}
