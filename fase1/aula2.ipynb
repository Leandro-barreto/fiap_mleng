{
 "cells": [
  {
   "cell_type": "markdown",
   "metadata": {},
   "source": [
    "Aula de conceitos de python"
   ]
  },
  {
   "cell_type": "code",
   "execution_count": 1,
   "metadata": {},
   "outputs": [
    {
     "name": "stdout",
     "output_type": "stream",
     "text": [
      "['maçã', 'banana', 'cereja', 'laranja']\n"
     ]
    }
   ],
   "source": [
    "frutas = ['maçã', 'banana', 'cereja']\n",
    "frutas.append('laranja')\n",
    "print(frutas)  # ['maçã', 'banana', 'cereja', 'laranja']"
   ]
  },
  {
   "cell_type": "markdown",
   "metadata": {},
   "source": [
    "Função Lambda"
   ]
  },
  {
   "cell_type": "code",
   "execution_count": 2,
   "metadata": {},
   "outputs": [
    {
     "name": "stdout",
     "output_type": "stream",
     "text": [
      "10\n"
     ]
    }
   ],
   "source": [
    "dobro = lambda x: x * 2\n",
    "print(dobro(5))  # 10"
   ]
  },
  {
   "cell_type": "markdown",
   "metadata": {},
   "source": [
    "Arquivos"
   ]
  },
  {
   "cell_type": "code",
   "execution_count": 3,
   "metadata": {},
   "outputs": [],
   "source": [
    "with open('arquivo.txt', 'w') as file:\n",
    "    file.write(\"Olá, mundo!\")"
   ]
  },
  {
   "cell_type": "code",
   "execution_count": 4,
   "metadata": {},
   "outputs": [
    {
     "name": "stdout",
     "output_type": "stream",
     "text": [
      "Olá, mundo!\n"
     ]
    }
   ],
   "source": [
    "with open('arquivo.txt', 'r') as file:\n",
    "    conteudo = file.read()\n",
    "    print(conteudo) # Olá, mundo!"
   ]
  },
  {
   "cell_type": "markdown",
   "metadata": {},
   "source": [
    "Lançando Excessões"
   ]
  },
  {
   "cell_type": "code",
   "execution_count": 7,
   "metadata": {},
   "outputs": [
    {
     "name": "stdout",
     "output_type": "stream",
     "text": [
      "O divisor não pode ser zero.\n"
     ]
    }
   ],
   "source": [
    "def dividir(a, b):\n",
    "    if b == 0:\n",
    "        raise ValueError(\"O divisor não pode ser zero.\")\n",
    "    return a / b\n",
    "\n",
    "try:\n",
    "    print(dividir(10, 0))\n",
    "except ValueError as e:\n",
    "    print(e)"
   ]
  },
  {
   "cell_type": "markdown",
   "metadata": {},
   "source": [
    "Decoradores"
   ]
  },
  {
   "cell_type": "code",
   "execution_count": 8,
   "metadata": {},
   "outputs": [
    {
     "name": "stdout",
     "output_type": "stream",
     "text": [
      "Saudação!\n",
      "Olá, Mundo!\n"
     ]
    }
   ],
   "source": [
    "def decorador_saudacao(func):\n",
    "    def wrapper(*args, **kwargs):\n",
    "        print(\"Saudação!\")\n",
    "        return func(*args, **kwargs)\n",
    "    return wrapper\n",
    "\n",
    "@decorador_saudacao\n",
    "def ola(nome):\n",
    "    print(f\"Olá, {nome}!\")\n",
    "\n",
    "ola(\"Mundo\")  # Saudação! Olá, Mundo!"
   ]
  },
  {
   "cell_type": "markdown",
   "metadata": {},
   "source": [
    "Context Manager"
   ]
  },
  {
   "cell_type": "code",
   "execution_count": 9,
   "metadata": {},
   "outputs": [
    {
     "name": "stdout",
     "output_type": "stream",
     "text": [
      "Entrando no contexto.\n",
      "Dentro do bloco with.\n",
      "Saindo do contexto.\n"
     ]
    }
   ],
   "source": [
    "class GerenciadorDeContexto:\n",
    "    def __enter__(self):\n",
    "        print(\"Entrando no contexto.\")\n",
    "        return self\n",
    "\n",
    "    def __exit__(self, exc_type, exc_value, traceback):\n",
    "        print(\"Saindo do contexto.\")\n",
    "\n",
    "with GerenciadorDeContexto():\n",
    "    print(\"Dentro do bloco with.\")"
   ]
  }
 ],
 "metadata": {
  "kernelspec": {
   "display_name": ".venv",
   "language": "python",
   "name": "python3"
  },
  "language_info": {
   "codemirror_mode": {
    "name": "ipython",
    "version": 3
   },
   "file_extension": ".py",
   "mimetype": "text/x-python",
   "name": "python",
   "nbconvert_exporter": "python",
   "pygments_lexer": "ipython3",
   "version": "3.10.13"
  }
 },
 "nbformat": 4,
 "nbformat_minor": 2
}
