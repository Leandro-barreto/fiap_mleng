{
 "cells": [
  {
   "cell_type": "markdown",
   "metadata": {},
   "source": [
    "## Imports"
   ]
  },
  {
   "cell_type": "code",
   "execution_count": 1,
   "metadata": {},
   "outputs": [],
   "source": [
    "import requests\n",
    "from bs4 import BeautifulSoup"
   ]
  },
  {
   "cell_type": "code",
   "execution_count": 87,
   "metadata": {},
   "outputs": [
    {
     "name": "stdout",
     "output_type": "stream",
     "text": [
      "Apresentação opt_01\n",
      "Produção opt_02\n",
      "Processamento opt_03\n",
      "Comercialização opt_04\n",
      "Importação opt_05\n",
      "Exportação opt_06\n",
      "Publicação opt_07\n"
     ]
    }
   ],
   "source": [
    "embrapa_url = \"http://vitibrasil.cnpuv.embrapa.br/index.php\"\n",
    "re = requests.get(embrapa_url)\n",
    "soup = BeautifulSoup(re._content)\n",
    "# páginas\n",
    "pages = {}\n",
    "for i in soup.find_all('button'):\n",
    "    texto = i.text\n",
    "    value = '' if 'value' not in i.attrs.keys() else i.attrs['value']\n",
    "    pages[texto] = {\n",
    "        'link': f'{embrapa_url}?opcao={value}',\n",
    "        'has_subpages': 'No', \n",
    "        'sub_pages': {},\n",
    "        'download_link': {}\n",
    "        }\n",
    "    print(texto, value)"
   ]
  },
  {
   "cell_type": "code",
   "execution_count": 103,
   "metadata": {},
   "outputs": [
    {
     "data": {
      "text/plain": [
       "{'Apresentação': {'link': 'http://vitibrasil.cnpuv.embrapa.br/index.php?opcao=opt_01',\n",
       "  'has_subpages': 'No',\n",
       "  'sub_pages': {},\n",
       "  'download_link': ['http://vitibrasil.cnpuv.embrapa.br/download/apresenta.pdf']},\n",
       " 'Produção': {'link': 'http://vitibrasil.cnpuv.embrapa.br/index.php?opcao=opt_02',\n",
       "  'has_subpages': 'No',\n",
       "  'sub_pages': {},\n",
       "  'download_link': ['http://vitibrasil.cnpuv.embrapa.br/download/Producao.csv']},\n",
       " 'Processamento': {'link': 'http://vitibrasil.cnpuv.embrapa.br/index.php?opcao=opt_03',\n",
       "  'has_subpages': 'yes',\n",
       "  'sub_pages': {'Viníferas': 'http://vitibrasil.cnpuv.embrapa.br/index.php?opcao=opt_03&subopcao=subopt_01',\n",
       "   'Americanas e híbridas': 'http://vitibrasil.cnpuv.embrapa.br/index.php?opcao=opt_03&subopcao=subopt_02',\n",
       "   'Uvas de mesa': 'http://vitibrasil.cnpuv.embrapa.br/index.php?opcao=opt_03&subopcao=subopt_03',\n",
       "   'Sem classificação': 'http://vitibrasil.cnpuv.embrapa.br/index.php?opcao=opt_03&subopcao=subopt_04'},\n",
       "  'download_link': ['http://vitibrasil.cnpuv.embrapa.br/download/ProcessaViniferas.csv',\n",
       "   'http://vitibrasil.cnpuv.embrapa.br/download/ProcessaAmericanas.csv',\n",
       "   'http://vitibrasil.cnpuv.embrapa.br/download/ProcessaMesa.csv',\n",
       "   'http://vitibrasil.cnpuv.embrapa.br/download/ProcessaSemclass.csv']},\n",
       " 'Comercialização': {'link': 'http://vitibrasil.cnpuv.embrapa.br/index.php?opcao=opt_04',\n",
       "  'has_subpages': 'No',\n",
       "  'sub_pages': {},\n",
       "  'download_link': ['http://vitibrasil.cnpuv.embrapa.br/download/Comercio.csv']},\n",
       " 'Importação': {'link': 'http://vitibrasil.cnpuv.embrapa.br/index.php?opcao=opt_05',\n",
       "  'has_subpages': 'yes',\n",
       "  'sub_pages': {'Vinhos de mesa': 'http://vitibrasil.cnpuv.embrapa.br/index.php?opcao=opt_05&subopcao=subopt_01',\n",
       "   'Espumantes': 'http://vitibrasil.cnpuv.embrapa.br/index.php?opcao=opt_05&subopcao=subopt_02',\n",
       "   'Uvas frescas': 'http://vitibrasil.cnpuv.embrapa.br/index.php?opcao=opt_05&subopcao=subopt_03',\n",
       "   'Uvas passas': 'http://vitibrasil.cnpuv.embrapa.br/index.php?opcao=opt_05&subopcao=subopt_04',\n",
       "   'Suco de uva': 'http://vitibrasil.cnpuv.embrapa.br/index.php?opcao=opt_05&subopcao=subopt_05'},\n",
       "  'download_link': ['http://vitibrasil.cnpuv.embrapa.br/download/ImpVinhos.csv',\n",
       "   'http://vitibrasil.cnpuv.embrapa.br/download/ImpEspumantes.csv',\n",
       "   'http://vitibrasil.cnpuv.embrapa.br/download/ImpFrescas.csv',\n",
       "   'http://vitibrasil.cnpuv.embrapa.br/download/ImpPassas.csv',\n",
       "   'http://vitibrasil.cnpuv.embrapa.br/download/ImpSuco.csv']},\n",
       " 'Exportação': {'link': 'http://vitibrasil.cnpuv.embrapa.br/index.php?opcao=opt_06',\n",
       "  'has_subpages': 'yes',\n",
       "  'sub_pages': {'Vinhos de mesa': 'http://vitibrasil.cnpuv.embrapa.br/index.php?opcao=opt_06&subopcao=subopt_01',\n",
       "   'Espumantes': 'http://vitibrasil.cnpuv.embrapa.br/index.php?opcao=opt_06&subopcao=subopt_02',\n",
       "   'Uvas frescas': 'http://vitibrasil.cnpuv.embrapa.br/index.php?opcao=opt_06&subopcao=subopt_03',\n",
       "   'Suco de uva': 'http://vitibrasil.cnpuv.embrapa.br/index.php?opcao=opt_06&subopcao=subopt_04'},\n",
       "  'download_link': ['http://vitibrasil.cnpuv.embrapa.br/download/ExpVinho.csv',\n",
       "   'http://vitibrasil.cnpuv.embrapa.br/download/ExpEspumantes.csv',\n",
       "   'http://vitibrasil.cnpuv.embrapa.br/download/ExpUva.csv',\n",
       "   'http://vitibrasil.cnpuv.embrapa.br/download/ExpSuco.csv']},\n",
       " 'Publicação': {'link': 'http://vitibrasil.cnpuv.embrapa.br/index.php?opcao=opt_07',\n",
       "  'has_subpages': 'No',\n",
       "  'sub_pages': {},\n",
       "  'download_link': ['http://vitibrasil.cnpuv.embrapa.br/download/publica.pdf']}}"
      ]
     },
     "execution_count": 103,
     "metadata": {},
     "output_type": "execute_result"
    }
   ],
   "source": [
    "pages"
   ]
  },
  {
   "cell_type": "code",
   "execution_count": 96,
   "metadata": {},
   "outputs": [
    {
     "name": "stdout",
     "output_type": "stream",
     "text": [
      "Apresentação\n",
      "Produção\n",
      "Processamento\n",
      "subopt: subopt_01\n",
      "subopt: subopt_02\n",
      "subopt: subopt_03\n",
      "subopt: subopt_04\n",
      "Comercialização\n",
      "Importação\n",
      "subopt: subopt_01\n",
      "subopt: subopt_02\n",
      "subopt: subopt_03\n",
      "subopt: subopt_04\n",
      "subopt: subopt_05\n",
      "Exportação\n",
      "subopt: subopt_01\n",
      "subopt: subopt_02\n",
      "subopt: subopt_03\n",
      "subopt: subopt_04\n",
      "Publicação\n"
     ]
    }
   ],
   "source": [
    "# Sub Páginas\n",
    "\n",
    "for key, values in pages.items():\n",
    "    print(key)\n",
    "    re = requests.get(values['link'])\n",
    "    soup = BeautifulSoup(re._content)\n",
    "    subpages_dict = {}\n",
    "    for i in soup.find_all('button'):\n",
    "        text = i.text\n",
    "        btn_value = '' if 'value' not in i.attrs.keys() else i.attrs['value']\n",
    "        if 'subopt' in btn_value:\n",
    "            print(f\"subopt: {btn_value}\")\n",
    "            values['has_subpages'] = 'yes' \n",
    "            subpages_dict[text] = f\"{values['link']}&subopcao={btn_value}\"\n",
    "    values['sub_pages'] = subpages_dict\n"
   ]
  },
  {
   "cell_type": "code",
   "execution_count": 108,
   "metadata": {},
   "outputs": [
    {
     "name": "stdout",
     "output_type": "stream",
     "text": [
      "Arquivo CSV baixado e salvo com sucesso.\n",
      "Arquivo CSV baixado e salvo com sucesso.\n",
      "Arquivo CSV baixado e salvo com sucesso.\n",
      "Arquivo CSV baixado e salvo com sucesso.\n",
      "Arquivo CSV baixado e salvo com sucesso.\n",
      "Arquivo CSV baixado e salvo com sucesso.\n",
      "Arquivo CSV baixado e salvo com sucesso.\n",
      "Arquivo CSV baixado e salvo com sucesso.\n",
      "Arquivo CSV baixado e salvo com sucesso.\n",
      "Arquivo CSV baixado e salvo com sucesso.\n",
      "Arquivo CSV baixado e salvo com sucesso.\n",
      "Arquivo CSV baixado e salvo com sucesso.\n",
      "Arquivo CSV baixado e salvo com sucesso.\n",
      "Arquivo CSV baixado e salvo com sucesso.\n",
      "Arquivo CSV baixado e salvo com sucesso.\n"
     ]
    }
   ],
   "source": [
    "# Download Links\n",
    "for key, values in pages.items():\n",
    "    if key in ['Apresentação', 'Publicação']: continue\n",
    "    if values['has_subpages'] == 'No':\n",
    "        re = requests.get(values['link'])\n",
    "        soup = BeautifulSoup(re._content)\n",
    "        for link_element in soup.find_all('a', class_='footer_content'):\n",
    "            if 'href' in link_element.attrs.keys() and 'DOWNLOAD' in link_element.text:\n",
    "                values['download_link'] = [embrapa_url.replace('index.php', link_element['href'])]\n",
    "                # Fazendo a requisição para baixar o conteúdo do CSV\n",
    "                if 'pdf' in link_element['href']: continue\n",
    "                response = requests.get(embrapa_url.replace('index.php', link_element['href']))\n",
    "                # Checando se o download foi bem-sucedido\n",
    "                if response.status_code == 200:\n",
    "                    # Salvando o conteúdo do arquivo\n",
    "                    name = link_element['href'].split('/')[-1]\n",
    "                    with open(f\"data/data_{name}\", \"wb\") as file:\n",
    "                        file.write(response.content)\n",
    "                    print(\"Arquivo CSV baixado e salvo com sucesso.\")\n",
    "                else:\n",
    "                    print(f\"Erro ao baixar o arquivo: {response.status_code}\")\n",
    "    else:\n",
    "        download_link = []\n",
    "        for subpages in values['sub_pages'].values():\n",
    "            re = requests.get(subpages)\n",
    "            soup = BeautifulSoup(re._content)\n",
    "            for link_element in soup.find_all('a', class_='footer_content'):\n",
    "                if 'href' in link_element.attrs.keys() and 'DOWNLOAD' in link_element.text:\n",
    "                    download_link.append(embrapa_url.replace('index.php', link_element['href']))\n",
    "                    # Fazendo a requisição para baixar o conteúdo do CSV\n",
    "                    if 'pdf' in link_element['href']: continue\n",
    "                    response = requests.get(embrapa_url.replace('index.php', link_element['href']))\n",
    "                    # Checando se o download foi bem-sucedido\n",
    "                    if response.status_code == 200:\n",
    "                        # Salvando o conteúdo do arquivo\n",
    "                        name = link_element['href'].split('/')[-1]\n",
    "                        with open(f\"data/data_{name}\", \"wb\") as file:\n",
    "                            file.write(response.content)\n",
    "                        print(\"Arquivo CSV baixado e salvo com sucesso.\")\n",
    "                    else:\n",
    "                        print(f\"Erro ao baixar o arquivo: {response.status_code}\")\n",
    "        values['download_link'] = download_link\n",
    "\n"
   ]
  },
  {
   "cell_type": "code",
   "execution_count": 75,
   "metadata": {},
   "outputs": [
    {
     "data": {
      "text/plain": [
       "[<a class=\"footer_content\" href=\"download/Producao.csv\" target=\"_blank\">\n",
       " <img alt=\"\" height=\"16\" src=\"figures/download.png\" width=\"16\"/>\n",
       " <span class=\"spn_small\">DOWNLOAD</span>\n",
       " </a>,\n",
       " <a class=\"footer_content\" href=\"#_top\">\n",
       " <img alt=\"\" height=\"16\" src=\"figures/topo.png\" width=\"16\"/>\n",
       " <span class=\"spn_small\">TOPO</span>\n",
       " </a>]"
      ]
     },
     "execution_count": 75,
     "metadata": {},
     "output_type": "execute_result"
    }
   ],
   "source": [
    "soup.find_all('a', class_='footer_content')"
   ]
  },
  {
   "cell_type": "code",
   "execution_count": 50,
   "metadata": {},
   "outputs": [
    {
     "name": "stdout",
     "output_type": "stream",
     "text": [
      "Arquivo CSV baixado e salvo com sucesso.\n"
     ]
    }
   ],
   "source": [
    "# Fazendo a requisição para baixar o conteúdo do CSV\n",
    "response = requests.get('http://vitibrasil.cnpuv.embrapa.br/download/Producao.csv')\n",
    "\n",
    "# Checando se o download foi bem-sucedido\n",
    "if response.status_code == 200:\n",
    "    # Salvando o conteúdo do arquivo\n",
    "    with open(\"arquivo_baixado.csv\", \"wb\") as file:\n",
    "        file.write(response.content)\n",
    "    print(\"Arquivo CSV baixado e salvo com sucesso.\")\n",
    "else:\n",
    "    print(f\"Erro ao baixar o arquivo: {response.status_code}\")\n"
   ]
  },
  {
   "cell_type": "code",
   "execution_count": 1,
   "metadata": {},
   "outputs": [],
   "source": [
    "# app.py\n",
    "\n",
    "from flask import Flask\n",
    "from flask_sqlalchemy import SQLAlchemy\n",
    "\n",
    "app = Flask(__name__)\n",
    "app.config['SQLALCHEMY_DATABASE_URI'] = 'sqlite:///example.db'\n",
    "db = SQLAlchemy(app)\n",
    "\n",
    "class User(db.Model):\n",
    "    id = db.Column(db.Integer, primary_key=True)\n",
    "    username = db.Column(db.String(80), unique=True, nullable=False)"
   ]
  },
  {
   "cell_type": "code",
   "execution_count": null,
   "metadata": {},
   "outputs": [],
   "source": [
    "# app.py, blueprint\n",
    "\n",
    "from flask import Blueprint, render_template\n",
    "\n",
    "auth_bp = Blueprint('auth', __name__)\n",
    "\n",
    "@auth_bp.route('/login')\n",
    "def login():\n",
    "    return render_template('login.html')\n",
    "\n",
    "# Integrando o blueprint no aplicativo principal\n",
    "app.register_blueprint(auth_bp, url_prefix='/auth')"
   ]
  },
  {
   "cell_type": "code",
   "execution_count": null,
   "metadata": {},
   "outputs": [],
   "source": [
    "# main.py\n",
    "\n",
    "from fastapi import FastAPI\n",
    "from pydantic import BaseModel\n",
    "\n",
    "app = FastAPI()\n",
    "\n",
    "class Item(BaseModel):\n",
    "    name: str\n",
    "    description: str = None\n",
    "    price: float\n",
    "    tax: float = None"
   ]
  },
  {
   "cell_type": "code",
   "execution_count": null,
   "metadata": {},
   "outputs": [],
   "source": [
    "# main.py\n",
    "\n",
    "from fastapi import Depends, FastAPI, HTTPException\n",
    "from fastapi.security import OAuth2PasswordBearer\n",
    "\n",
    "app = FastAPI()\n",
    "\n",
    "oauth2_scheme = OAuth2PasswordBearer(tokenUrl=\"token\")\n",
    "\n",
    "# Uso de dependência avançada\n",
    "def get_current_user(token: str = Depends(oauth2_scheme)):\n",
    "    credentials_exception = HTTPException(\n",
    "        status_code=401,\n",
    "        detail=\"Could not validate credentials\",\n",
    "        headers={\"WWW-Authenticate\": \"Bearer\"}\n",
    "    )\n",
    "    # Lógica para validar o token e obter o usuário atual\n",
    "    return current_user\n",
    "\n",
    "@app.get(\"/users/na\")\n",
    "async def read_user_na(current_user: User = Depends(get_current_user)):\n",
    "    return {\"username\": current_user.username}"
   ]
  }
 ],
 "metadata": {
  "kernelspec": {
   "display_name": ".venv",
   "language": "python",
   "name": "python3"
  },
  "language_info": {
   "codemirror_mode": {
    "name": "ipython",
    "version": 3
   },
   "file_extension": ".py",
   "mimetype": "text/x-python",
   "name": "python",
   "nbconvert_exporter": "python",
   "pygments_lexer": "ipython3",
   "version": "3.10.13"
  }
 },
 "nbformat": 4,
 "nbformat_minor": 2
}
