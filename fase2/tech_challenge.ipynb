{
 "cells": [
  {
   "cell_type": "markdown",
   "metadata": {},
   "source": [
    "## Imports"
   ]
  },
  {
   "cell_type": "code",
   "execution_count": 1,
   "metadata": {},
   "outputs": [],
   "source": [
    "import requests\n",
    "from selenium import webdriver\n",
    "from selenium.webdriver.chrome.options import Options\n",
    "import base64\n",
    "import os\n",
    "import pandas as pd"
   ]
  },
  {
   "cell_type": "code",
   "execution_count": 2,
   "metadata": {},
   "outputs": [],
   "source": [
    "response_header= {\n",
    "    'alt-svc': 'h3=\":443\"; ma=86400',\n",
    "    'cf-cache-status': 'DYNAMIC',\n",
    "    'cf-ray': '90edbc012947cadb-GIG',\n",
    "    'content-encoding': 'gzip',\n",
    "    'content-security-policy': \"default-src 'self' https://*.google-analytics.com; font-src 'self' data: https://fonts.gstatic.com/ ;img-src * data: ; script-src 'unsafe-eval' * 'unsafe-inline'; style-src * 'unsafe-inline'; frame-src http://*.internalenv.corp/ https://s.tradingview.com/ https://www.tradingview-widget.com/\",\n",
    "    'content-type': 'text/plain; charset=utf-8',\n",
    "    'date': 'Sat, 08 Feb 2025 18:38:02 GMT',\n",
    "    'priority': 'u=1,i',\n",
    "    'referrer-policy':'strict-origin',\n",
    "    'server': 'cloudflare',\n",
    "    'server-timing':'dtSInfo;desc=\"0\", dtRpid;desc=\"-1341249204\"',\n",
    "    'server-timing':'cfExtPri',\n",
    "    'strict-transport-security':'max-age=31536000; includeSubDomains',\n",
    "    'x-content-type-options':'nosniff',\n",
    "    'x-frame-options':'ALLOW-FROM http://webcor01401d.internalenv.corp/',\n",
    "    'x-xss-protection':'1; mode=block',\n",
    "}\n"
   ]
  },
  {
   "cell_type": "code",
   "execution_count": 5,
   "metadata": {},
   "outputs": [],
   "source": [
    "request_headers = {\n",
    "    'authority': 'sistemaswebb3-listados.b3.com.br',\n",
    "    'method': 'GET',\n",
    "    'path': '/indexProxy/indexCall/GetDownloadPortfolioDay/eyJpbmRleCI6IklCT1YiLCJsYW5ndWFnZSI6InB0LWJyIn0=',\n",
    "    'scheme': 'https',\n",
    "    'accept': 'application/json, text/plain, */*',\n",
    "    'accept-encoding': 'gzip, deflate, br, zstd',\n",
    "    'accept-language': 'en-US,en;q=0.5',\n",
    "    'cookie': 'dtCookie=v_4_srv_34_sn_36F6D96F6E3DDC1A0D6EF4E0B92C27B8_perc_100000_ol_0_mul_1_app-3Afd69ce40c52bd20e_1_rcs-3Acss_0; TS0134a800=016e3b076f828035e6d5201d92746c6904a5f337a2a7e75ea7bf2c0bad3c19701b8722aaacc3029185782185c36988b0f549e4d90b; rxVisitor=17390215812186FKQ78C5C4BVBHS9MNISBTL03QMJ7A0A; cf_clearance=1G559wUHn5ygodZYVQ1X4JGNO6XKVIHCD3AW4vqgChA-1739023568-1.2.1.1-niFyQX0R7gTKH9oKvNrdzXCK8dvyJ.QwCCoIJTVXbVkIqhHS7TG1Cy2JWTTD46yiWNAQQg00Y8c_UfmgW_YHsEbeysN6dNyzRMcYbXfxQdGdbuxyzyygheaUMZCYEdzwFKxq35PKiJVYFA8FYjvOjHFGSvRNpD4N4CZMuV_rQUIeVAT9_IOTqtbeaeDcFvymrAbzPahNAY4xdeWMN5z3I13HRiWOR2HC4vo3SaBif3xdI0KeJCSQ2p8Qj94At7quBOkHuA0AwwpXbmRDbPnXmO09aHi4kFimdaxOgHqvTug; rxvt=1739039106887|1739037197532; dtSa=-; dtPC=34$237294535_886h-vKOFPPUIOHKKPGWNKPVEDKPKUMKFHJFMQ-0e0; BIGipServerpool_sistemaswebb3-listados_8443_WAF=1329145866.64288.0000; __cf_bm=RiqF18tYIw4mR3y6BvHueM7jDNApXfywT_c7UcjVFSc-1739039115-1.0.1.1-2fzI0.mRx98bIQWvw9Ci4QoXCTw4sxz2Yg.4b_IjW7JZ5tb4Um9ayJ7OollPjYZWchhAuPnf_8XBNgt9zxgTBw; TS01871345=016e3b076f75ac55b6b1072a91e0d96253597cea89c5bad4196622d261ef1a88daa8f08fa02c78c754f0bb0c9766b9c61f428e59ec',\n",
    "    'priority': 'u=1, i',\n",
    "    'referer': 'https://sistemaswebb3-listados.b3.com.br/',\n",
    "    'sec-ch-ua': '\"Brave\";v=\"131\", \"Chromium\";v=\"131\", \"Not_A Brand\";v=\"24\"',\n",
    "    'sec-ch-ua-mobile': '?0',\n",
    "    'sec-ch-ua-platform': '\"Linux\"',\n",
    "    'sec-fetch-dest': 'empty',\n",
    "    'sec-fetch-mode':'cors',\n",
    "    'sec-fetch-site':'same-origin',\n",
    "    'sec-gpc':'1', \n",
    "    'user-agent':'Mozilla/5.0 (X11; Linux x86_64) AppleWebKit/537.36 (KHTML, like Gecko) Chrome/131.0.0.0 Safari/537.36',\n",
    "}"
   ]
  },
  {
   "cell_type": "code",
   "execution_count": 4,
   "metadata": {},
   "outputs": [
    {
     "name": "stdout",
     "output_type": "stream",
     "text": [
      "Arquivo salvo em: /home/kunumi/Documents/Pessoal/pos/fiap_mleng/fase2/data/ibovespa.csv\n"
     ]
    }
   ],
   "source": [
    "# Configurar diretório de download\n",
    "download_dir = os.path.abspath(\"./data/\")\n",
    "\n",
    "# Iniciar o Selenium para obter cookies\n",
    "chrome_options = Options()\n",
    "chrome_options.add_argument(\"--headless=new\")\n",
    "driver = webdriver.Chrome(options=chrome_options)\n",
    "driver.get(\"https://sistemaswebb3-listados.b3.com.br/indexPage/day/IBOV?language=pt-br\")\n",
    "\n",
    "# Extrair cookies e headers\n",
    "cookies = {cookie[\"name\"]: cookie[\"value\"] for cookie in driver.get_cookies()}\n",
    "user_agent = driver.execute_script(\"return navigator.userAgent;\")\n",
    "driver.quit()\n",
    "\n",
    "# URL da requisição XHR (substitua pela URL real encontrada no DevTools)\n",
    "xhr_url = \"https://sistemaswebb3-listados.b3.com.br/indexProxy/indexCall/GetDownloadPortfolioDay/eyJpbmRleCI6IklCT1YiLCJsYW5ndWFnZSI6InB0LWJyIn0=\"\n",
    "\n",
    "# Headers críticos (copie do DevTools)\n",
    "headers = {\n",
    "    \"User-Agent\": user_agent,\n",
    "    \"Referer\": \"https://sistemaswebb3-listados.b3.com.br/indexPage/day/IBOV?language=pt-br\",\n",
    "    \"Accept\": \"text/csv\",  # Forçar retorno do CSV\n",
    "}\n",
    "\n",
    "# Fazer a requisição GET\n",
    "response = requests.get(xhr_url, headers=request_headers, cookies=cookies)\n",
    "\n",
    "decoded_csv = base64.b64decode(response.text).decode('latin-1')\n",
    "\n",
    "# Salvar o CSV\n",
    "csv_path = os.path.join(download_dir, \"ibovespa.csv\")\n",
    "with open(csv_path, \"w\", encoding='utf-8') as f:\n",
    "    f.write(decoded_csv)\n",
    "\n",
    "print(f\"Arquivo salvo em: {csv_path}\")"
   ]
  }
 ],
 "metadata": {
  "kernelspec": {
   "display_name": "fiap_tech",
   "language": "python",
   "name": "python3"
  },
  "language_info": {
   "codemirror_mode": {
    "name": "ipython",
    "version": 3
   },
   "file_extension": ".py",
   "mimetype": "text/x-python",
   "name": "python",
   "nbconvert_exporter": "python",
   "pygments_lexer": "ipython3",
   "version": "3.10.13"
  }
 },
 "nbformat": 4,
 "nbformat_minor": 2
}
